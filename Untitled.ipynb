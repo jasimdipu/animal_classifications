{
 "cells": [
  {
   "cell_type": "code",
   "execution_count": 14,
   "id": "5d05c5cc",
   "metadata": {},
   "outputs": [],
   "source": [
    "import os\n",
    "import tensorflow as tf\n",
    "from tensorflow.keras.applications.mobilenet_v2 import MobileNetV2, preprocess_input\n",
    "from tensorflow.keras.layers import Dense, Conv2D, Input\n",
    "from tensorflow.keras.layers import GlobalAveragePooling2D\n",
    "from tensorflow.keras import callbacks, optimizers\n",
    "from tensorflow.keras.preprocessing.image import load_img, ImageDataGenerator\n",
    "import numpy as np"
   ]
  },
  {
   "cell_type": "code",
   "execution_count": 3,
   "id": "89d63d82",
   "metadata": {},
   "outputs": [
    {
     "data": {
      "text/plain": [
       "[PhysicalDevice(name='/physical_device:GPU:0', device_type='GPU')]"
      ]
     },
     "execution_count": 3,
     "metadata": {},
     "output_type": "execute_result"
    }
   ],
   "source": [
    "tf.config.list_physical_devices('GPU')"
   ]
  },
  {
   "cell_type": "code",
   "execution_count": 4,
   "id": "21c26ef8",
   "metadata": {},
   "outputs": [
    {
     "name": "stdout",
     "output_type": "stream",
     "text": [
      "Tue May 10 10:06:57 2022       \n",
      "+-----------------------------------------------------------------------------+\n",
      "| NVIDIA-SMI 496.49       Driver Version: 496.49       CUDA Version: 11.5     |\n",
      "|-------------------------------+----------------------+----------------------+\n",
      "| GPU  Name            TCC/WDDM | Bus-Id        Disp.A | Volatile Uncorr. ECC |\n",
      "| Fan  Temp  Perf  Pwr:Usage/Cap|         Memory-Usage | GPU-Util  Compute M. |\n",
      "|                               |                      |               MIG M. |\n",
      "|===============================+======================+======================|\n",
      "|   0  NVIDIA GeForce ... WDDM  | 00000000:01:00.0 Off |                  N/A |\n",
      "| N/A   52C    P8     4W /  N/A |    164MiB /  6144MiB |      0%      Default |\n",
      "|                               |                      |                  N/A |\n",
      "+-------------------------------+----------------------+----------------------+\n",
      "                                                                               \n",
      "+-----------------------------------------------------------------------------+\n",
      "| Processes:                                                                  |\n",
      "|  GPU   GI   CI        PID   Type   Process name                  GPU Memory |\n",
      "|        ID   ID                                                   Usage      |\n",
      "|=============================================================================|\n",
      "|  No running processes found                                                 |\n",
      "+-----------------------------------------------------------------------------+\n"
     ]
    }
   ],
   "source": [
    "!nvidia-smi"
   ]
  },
  {
   "cell_type": "code",
   "execution_count": 5,
   "id": "fbf6adb4",
   "metadata": {},
   "outputs": [
    {
     "name": "stdout",
     "output_type": "stream",
     "text": [
      "cane\n",
      "cavallo\n",
      "elefante\n",
      "farfalla\n",
      "gallina\n",
      "gatto\n",
      "mucca\n",
      "pecora\n",
      "ragno\n",
      "scoiattolo\n"
     ]
    }
   ],
   "source": [
    "for i in os.listdir(\"raw-img\"):\n",
    "    print(i)"
   ]
  },
  {
   "cell_type": "code",
   "execution_count": 6,
   "id": "0a4308c1",
   "metadata": {},
   "outputs": [],
   "source": [
    "from translate import translate"
   ]
  },
  {
   "cell_type": "code",
   "execution_count": 7,
   "id": "09aba97d",
   "metadata": {},
   "outputs": [
    {
     "data": {
      "text/plain": [
       "{'cane': 'dog',\n",
       " 'cavallo': 'horse',\n",
       " 'elefante': 'elephant',\n",
       " 'farfalla': 'butterfly',\n",
       " 'gallina': 'chicken',\n",
       " 'gatto': 'cat',\n",
       " 'mucca': 'cow',\n",
       " 'pecora': 'sheep',\n",
       " 'ragno': 'spider',\n",
       " 'scoiattolo': 'squirrel'}"
      ]
     },
     "execution_count": 7,
     "metadata": {},
     "output_type": "execute_result"
    }
   ],
   "source": [
    "translate"
   ]
  },
  {
   "cell_type": "code",
   "execution_count": 8,
   "id": "5760c904",
   "metadata": {},
   "outputs": [],
   "source": [
    "for i in os.listdir(\"raw-img\"):\n",
    "    try:\n",
    "        os.rename(\"raw-img/\"+i, \"raw-img/\"+translate[i])\n",
    "    except Exception as e:\n",
    "        print(e)"
   ]
  },
  {
   "cell_type": "code",
   "execution_count": 9,
   "id": "e8302960",
   "metadata": {},
   "outputs": [
    {
     "name": "stdout",
     "output_type": "stream",
     "text": [
      "butterfly\n",
      "cat\n",
      "chicken\n",
      "cow\n",
      "dog\n",
      "elephant\n",
      "horse\n",
      "sheep\n",
      "spider\n",
      "squirrel\n"
     ]
    }
   ],
   "source": [
    "for i in os.listdir(\"raw-img\"):\n",
    "    print(i)"
   ]
  },
  {
   "cell_type": "code",
   "execution_count": 10,
   "id": "c000be0b",
   "metadata": {},
   "outputs": [
    {
     "name": "stdout",
     "output_type": "stream",
     "text": [
      "butterfly 2112\n",
      "cat 1668\n",
      "chicken 3098\n",
      "cow 1866\n",
      "dog 4863\n",
      "elephant 1446\n",
      "horse 2623\n",
      "sheep 1820\n",
      "spider 4821\n",
      "squirrel 1862\n"
     ]
    }
   ],
   "source": [
    "for i in os.listdir(\"raw-img\"):\n",
    "    print(i, len(os.listdir(\"raw-img/\"+i)))"
   ]
  },
  {
   "cell_type": "code",
   "execution_count": 13,
   "id": "da27a0be",
   "metadata": {},
   "outputs": [],
   "source": [
    "os.mkdir(\"train\")\n",
    "os.mkdir(\"test\")\n",
    "\n",
    "for i in os.listdir(\"raw-img\"):\n",
    "    os.mkdir(\"train/\"+i)\n",
    "    os.mkdir(\"test/\"+i)\n",
    "    for j in os.listdir(\"raw-img/\"+i)[:1000]:\n",
    "        os.rename(\"raw-img/\"+i+\"/\"+j, \"train/\"+i+\"/\"+j)\n",
    "    for j in os.listdir(\"raw-img/\"+i)[:400]:\n",
    "        os.rename(\"raw-img/\"+i+\"/\"+j, \"test/\"+i+\"/\"+j)"
   ]
  },
  {
   "cell_type": "code",
   "execution_count": 25,
   "id": "13f24a14",
   "metadata": {},
   "outputs": [],
   "source": [
    "def img_data(dir_path, target_size, batch, class_lst, preprocessing):\n",
    "    if preprocessing:\n",
    "        gen_object = ImageDataGenerator(preprocessing_function=preprocessing)\n",
    "    else:\n",
    "        gen_object = ImageDataGenerator()\n",
    "    return gen_object.flow_from_directory(dir_path, target_size, batch_size=batch, class_mode=\"sparse\", classes=class_lst, shuffle=True)"
   ]
  },
  {
   "cell_type": "code",
   "execution_count": 98,
   "id": "9da1f0c0",
   "metadata": {},
   "outputs": [
    {
     "name": "stdout",
     "output_type": "stream",
     "text": [
      "Found 10000 images belonging to 10 classes.\n"
     ]
    }
   ],
   "source": [
    "train_data_gen = img_data(\"train\", (224, 224), 100, os.listdir(\"train\"), preprocess_input)"
   ]
  },
  {
   "cell_type": "code",
   "execution_count": 99,
   "id": "83e674b8",
   "metadata": {},
   "outputs": [
    {
     "name": "stdout",
     "output_type": "stream",
     "text": [
      "Found 4000 images belonging to 10 classes.\n"
     ]
    }
   ],
   "source": [
    "validation_data_gen = img_data(\"test\", (224, 224), 100, os.listdir(\"train\"), preprocess_input)"
   ]
  },
  {
   "cell_type": "code",
   "execution_count": 100,
   "id": "2c68682f",
   "metadata": {},
   "outputs": [],
   "source": [
    "base_model = tf.keras.applications.MobileNetV2(\n",
    "    input_shape=(224, 224, 3), alpha=1.0, include_top=False, weights=\"imagenet\",\n",
    "    input_tensor=None, pooling=None, classes=1000,\n",
    "    classifier_activation='softmax'\n",
    ")"
   ]
  },
  {
   "cell_type": "code",
   "execution_count": 101,
   "id": "0ed6a0a4",
   "metadata": {},
   "outputs": [],
   "source": [
    "base_model.trainable = False"
   ]
  },
  {
   "cell_type": "code",
   "execution_count": 105,
   "id": "c6fedbc7",
   "metadata": {},
   "outputs": [],
   "source": [
    "model = tf.keras.models.Sequential()\n",
    "model.add(base_model)\n",
    "model.add(GlobalAveragePooling2D())\n",
    "model.add(Dense(500, activation='relu'))\n",
    "model.add(Dense(10, activation='softmax'))"
   ]
  },
  {
   "cell_type": "code",
   "execution_count": 106,
   "id": "6c572e25",
   "metadata": {},
   "outputs": [],
   "source": [
    "model.compile(optimizer='adam', loss='sparse_categorical_crossentropy', metrics=['accuracy'])"
   ]
  },
  {
   "cell_type": "code",
   "execution_count": 107,
   "id": "f3b523e9",
   "metadata": {},
   "outputs": [
    {
     "name": "stdout",
     "output_type": "stream",
     "text": [
      "Model: \"sequential_9\"\n",
      "_________________________________________________________________\n",
      "Layer (type)                 Output Shape              Param #   \n",
      "=================================================================\n",
      "mobilenetv2_1.00_224 (Model) (None, 7, 7, 1280)        2257984   \n",
      "_________________________________________________________________\n",
      "global_average_pooling2d_9 ( (None, 1280)              0         \n",
      "_________________________________________________________________\n",
      "dense_16 (Dense)             (None, 500)               640500    \n",
      "_________________________________________________________________\n",
      "dense_17 (Dense)             (None, 10)                5010      \n",
      "=================================================================\n",
      "Total params: 2,903,494\n",
      "Trainable params: 645,510\n",
      "Non-trainable params: 2,257,984\n",
      "_________________________________________________________________\n"
     ]
    }
   ],
   "source": [
    "model.summary()"
   ]
  },
  {
   "cell_type": "code",
   "execution_count": 108,
   "id": "9648e9fd",
   "metadata": {},
   "outputs": [],
   "source": [
    "elst = callbacks.EarlyStopping(monitor='val_loss', patience=5, mode='min')\n",
    "save_ck = callbacks.ModelCheckpoint('.mdl_wt.hdf5', save_best_only=True, monitor='val_loss', mode='min')"
   ]
  },
  {
   "cell_type": "code",
   "execution_count": null,
   "id": "bc766390",
   "metadata": {},
   "outputs": [
    {
     "name": "stdout",
     "output_type": "stream",
     "text": [
      "Epoch 1/10\n",
      "100/100 [==============================] - 19s 192ms/step - loss: 0.2639 - accuracy: 0.9211 - val_loss: 0.2333 - val_accuracy: 0.9308\n",
      "Epoch 2/10\n",
      "100/100 [==============================] - 19s 189ms/step - loss: 0.0953 - accuracy: 0.9730 - val_loss: 0.2502 - val_accuracy: 0.9285\n",
      "Epoch 3/10\n",
      "100/100 [==============================] - 19s 190ms/step - loss: 0.0519 - accuracy: 0.9855 - val_loss: 0.2120 - val_accuracy: 0.9420\n",
      "Epoch 4/10\n",
      "100/100 [==============================] - 19s 191ms/step - loss: 0.0295 - accuracy: 0.9925 - val_loss: 0.2108 - val_accuracy: 0.9473\n",
      "Epoch 5/10\n",
      "100/100 [==============================] - 19s 190ms/step - loss: 0.0176 - accuracy: 0.9964 - val_loss: 0.2294 - val_accuracy: 0.9410\n",
      "Epoch 6/10\n",
      "100/100 [==============================] - 19s 191ms/step - loss: 0.0104 - accuracy: 0.9983 - val_loss: 0.2446 - val_accuracy: 0.9415\n",
      "Epoch 7/10\n",
      "100/100 [==============================] - 20s 198ms/step - loss: 0.0052 - accuracy: 0.9997 - val_loss: 0.2288 - val_accuracy: 0.9452\n"
     ]
    }
   ],
   "source": [
    "model.fit(train_data_gen, batch_size=100, validation_data=validation_data_gen, callbacks=[elst, save_ck], epochs=10)"
   ]
  },
  {
   "cell_type": "code",
   "execution_count": null,
   "id": "18a32823",
   "metadata": {},
   "outputs": [],
   "source": []
  }
 ],
 "metadata": {
  "kernelspec": {
   "display_name": "Python 3",
   "language": "python",
   "name": "python3"
  },
  "language_info": {
   "codemirror_mode": {
    "name": "ipython",
    "version": 3
   },
   "file_extension": ".py",
   "mimetype": "text/x-python",
   "name": "python",
   "nbconvert_exporter": "python",
   "pygments_lexer": "ipython3",
   "version": "3.6.9"
  }
 },
 "nbformat": 4,
 "nbformat_minor": 5
}
